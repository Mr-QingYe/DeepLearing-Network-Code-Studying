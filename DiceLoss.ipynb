{
 "cells": [
  {
   "cell_type": "markdown",
   "metadata": {},
   "source": [
    "#### Dice差异系数"
   ]
  },
  {
   "cell_type": "code",
   "execution_count": 1,
   "metadata": {},
   "outputs": [],
   "source": [
    "# https://github.com/pytorch/pytorch/issues/1249\n",
    "def dice_coeff(pred, target):\n",
    "    smooth = 1.\n",
    "    num = pred.size(0)\n",
    "    m1 = pred.view(num, -1)  # Flatten\n",
    "    m2 = target.view(num, -1)  # Flatten\n",
    "    intersection = (m1 * m2).sum()\n",
    " \n",
    "    return (2. * intersection + smooth) / (m1.sum() + m2.sum() + smooth)"
   ]
  },
  {
   "cell_type": "markdown",
   "metadata": {},
   "source": [
    "#### Dice Loss"
   ]
  },
  {
   "cell_type": "code",
   "execution_count": 2,
   "metadata": {},
   "outputs": [],
   "source": [
    "import torch\n",
    "import torch.nn as nn\n",
    "import torch.nn.functional as F"
   ]
  },
  {
   "cell_type": "code",
   "execution_count": 3,
   "metadata": {},
   "outputs": [],
   "source": [
    "class DiceLoss(nn.Module):\n",
    "    def __init__(self):\n",
    "        super(DiceLoss, self).__init__()\n",
    "        self.epsilon = 1e-5\n",
    "    \n",
    "    def forward(self, predict, target):\n",
    "        assert predict.size() == target.size(), \"the size of predict and target must be equal.\"\n",
    "        num = predict.size(0)\n",
    "        \n",
    "        pre = torch.sigmoid(predict).view(num, -1)\n",
    "        tar = target.view(num, -1)\n",
    "        \n",
    "        intersection = (pre * tar).sum(-1).sum()  #利用预测值与标签相乘当作交集\n",
    "        union = (pre + tar).sum(-1).sum()\n",
    "        \n",
    "        score = 1 - 2 * (intersection + self.epsilon) / (union + self.epsilon)\n",
    "        \n",
    "        return score"
   ]
  },
  {
   "cell_type": "code",
   "execution_count": 4,
   "metadata": {},
   "outputs": [],
   "source": [
    "loss = DiceLoss()"
   ]
  },
  {
   "cell_type": "code",
   "execution_count": 5,
   "metadata": {},
   "outputs": [],
   "source": [
    "predict = torch.randn(3, 4, 4)\n",
    "target = torch.randn(3, 4, 4)\n",
    "\n",
    "score = loss(predict, target)"
   ]
  },
  {
   "cell_type": "code",
   "execution_count": 6,
   "metadata": {},
   "outputs": [
    {
     "data": {
      "text/plain": [
       "tensor(1.3395)"
      ]
     },
     "execution_count": 6,
     "metadata": {},
     "output_type": "execute_result"
    }
   ],
   "source": [
    "score"
   ]
  },
  {
   "cell_type": "markdown",
   "metadata": {},
   "source": [
    "#### BiseNet中的DiceLoss代码"
   ]
  },
  {
   "cell_type": "code",
   "execution_count": 7,
   "metadata": {},
   "outputs": [],
   "source": [
    "import torch.nn as nn\n",
    "import torch\n",
    "import torch.nn.functional as F\n",
    "\n",
    "def flatten(tensor):\n",
    "    \"\"\"Flattens a given tensor such that the channel axis is first.\n",
    "    The shapes are transformed as follows:\n",
    "       (N, C, D, H, W) -> (C, N * D * H * W)\n",
    "    \"\"\"\n",
    "    \n",
    "    C = tensor.size(1)        #获得图像的维数\n",
    "    # new axis order\n",
    "    axis_order = (1, 0) + tuple(range(2, tensor.dim()))     \n",
    "    # Transpose: (N, C, D, H, W) -> (C, N, D, H, W)\n",
    "    transposed = tensor.permute(axis_order)                 #将维数的数据转换到第一位\n",
    "    # Flatten: (C, N, D, H, W) -> (C, N * D * H * W)\n",
    "    return transposed.contiguous().view(C, -1)              \n",
    "\n",
    "\n",
    "class DiceLoss(nn.Module):\n",
    "    def __init__(self):\n",
    "        super().__init__()\n",
    "        self.epsilon = 1e-5\n",
    "\n",
    "    def forward(self, output, target):\n",
    "        assert output.size() == target.size(), \"'input' and 'target' must have the same shape\"\n",
    "        output = F.softmax(output, dim=1)\n",
    "        output = flatten(output)\n",
    "        target = flatten(target)\n",
    "        # intersect = (output * target).sum(-1).sum() + self.epsilon\n",
    "        # denominator = ((output + target).sum(-1)).sum() + self.epsilon\n",
    "\n",
    "        intersect = (output * target).sum(-1)\n",
    "        denominator = (output + target).sum(-1)\n",
    "        dice = intersect / denominator\n",
    "        dice = torch.mean(dice)\n",
    "        return 1 - dice\n",
    "        # return 1 - 2. * intersect / denominator"
   ]
  }
 ],
 "metadata": {
  "kernelspec": {
   "display_name": "Python 3",
   "language": "python",
   "name": "python3"
  },
  "language_info": {
   "codemirror_mode": {
    "name": "ipython",
    "version": 3
   },
   "file_extension": ".py",
   "mimetype": "text/x-python",
   "name": "python",
   "nbconvert_exporter": "python",
   "pygments_lexer": "ipython3",
   "version": "3.7.4"
  }
 },
 "nbformat": 4,
 "nbformat_minor": 2
}
